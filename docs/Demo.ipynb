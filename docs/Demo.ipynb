{
 "cells": [
  {
   "cell_type": "markdown",
   "id": "8f79c126-5192-4f6c-8b06-ac97b5dc4e98",
   "metadata": {},
   "source": [
    "# Demo of PyPantograph"
   ]
  },
  {
   "cell_type": "markdown",
   "id": "7d7976aa-a92e-4c60-a102-d963f44d4951",
   "metadata": {},
   "source": [
    "## Setup\n",
    "\n",
    "1. Clone the [PyPantograph](https://github.com/stanford-centaur/PyPantograph) repository.\n",
    "2. Clone Mathlib4 [Mathlib4](https://github.com/leanprover-community/mathlib4) and checkout tag `v4.18.0`.\n",
    "3. Run `lake exe cache get` in the directory of Mathlib4."
   ]
  },
  {
   "cell_type": "code",
   "execution_count": 5,
   "id": "0b2b6fe7-89bd-4418-93a3-1f5127c61822",
   "metadata": {},
   "outputs": [],
   "source": [
    "from pantograph.server import Server\n",
    "from pantograph.expr import TacticCalc"
   ]
  },
  {
   "cell_type": "markdown",
   "id": "df989f2b-f100-4726-afa8-bc5b845d6688",
   "metadata": {},
   "source": [
    "## Incremental Tactic Execution\n",
    "\n",
    "We can run `conv` and `calc` in Pantograph."
   ]
  },
  {
   "cell_type": "code",
   "execution_count": 6,
   "id": "8ea15500-5ea2-45d8-8852-39011471c6b3",
   "metadata": {
    "scrolled": true
   },
   "outputs": [
    {
     "name": "stdout",
     "output_type": "stream",
     "text": [
      "calc\n",
      "a : Nat\n",
      "b : Nat\n",
      "h : b = 2\n",
      "⊢ 1 + a + 1 = a + 1 + 1\n",
      "a : Nat\n",
      "b : Nat\n",
      "h : b = 2\n",
      "⊢ a + 1 + 1 = a + b\n"
     ]
    }
   ],
   "source": [
    "server = await Server.create()\n",
    "state0 = await server.goal_start_async(\"∀ (a b: Nat), (b = 2) -> 1 + a + 1 = a + b\")\n",
    "\n",
    "state1 = await server.goal_tactic_async(state0, goal_id=0, tactic=\"intro a b h\")\n",
    "state2 = await server.goal_tactic_async(state1, goal_id=0, tactic=TacticCalc(\"1 + a + 1 = a + 1 + 1\"))\n",
    "print(state2)"
   ]
  },
  {
   "cell_type": "code",
   "execution_count": 8,
   "id": "ca0a7126-94a4-474f-89f2-886a76c79f23",
   "metadata": {},
   "outputs": [
    {
     "name": "stdout",
     "output_type": "stream",
     "text": [
      "a : Nat\n",
      "b : Nat\n",
      "h : b = 2\n",
      "| 1 + a + 1 = a + 1 + 1\n"
     ]
    }
   ],
   "source": [
    "state_c1 = await server.goal_conv_begin_async(state2, goal_id=0)\n",
    "print(state_c1)"
   ]
  },
  {
   "cell_type": "code",
   "execution_count": 9,
   "id": "226b6980-767a-4a43-ab9e-c411791d75db",
   "metadata": {},
   "outputs": [
    {
     "name": "stdout",
     "output_type": "stream",
     "text": [
      "a : Nat\n",
      "b : Nat\n",
      "h : b = 2\n",
      "| 1 + (a + 1)\n"
     ]
    }
   ],
   "source": [
    "state_c2 = await server.goal_tactic_async(state_c1, goal_id=0, tactic=\"rhs\")\n",
    "state_c3 = await server.goal_tactic_async(state_c2, goal_id=0, tactic=\"rw [Nat.add_comm]\")\n",
    "print(state_c3)"
   ]
  },
  {
   "cell_type": "code",
   "execution_count": 11,
   "id": "47df7dea-a76b-4392-8150-e97924f3dbaa",
   "metadata": {},
   "outputs": [
    {
     "name": "stdout",
     "output_type": "stream",
     "text": [
      "calc\n",
      "a : Nat\n",
      "b : Nat\n",
      "h : b = 2\n",
      "⊢ 1 + a + 1 = 1 + (a + 1)\n",
      "a : Nat\n",
      "b : Nat\n",
      "h : b = 2\n",
      "⊢ a + 1 + 1 = a + b\n"
     ]
    }
   ],
   "source": [
    "state_c4 = await server.goal_conv_end_async(state_c3)\n",
    "print(state_c4)"
   ]
  },
  {
   "cell_type": "markdown",
   "id": "7706a0fc-88a1-4638-b8ce-c030e85796f3",
   "metadata": {},
   "source": [
    "## Motivated Proofs\n",
    "\n",
    "This example showcases **motivated proofs** in Lean. Consider a simple analysis proof that starts with \"Let $\\epsilon > 0$. Set $\\delta := \\min(\\epsilon/2, \\epsilon^2)$. The reader is left wondering how was the $\\delta$ generated. In a motivated proof, $\\delta$ would be left blank and then filled in when all of its constraints are in order."
   ]
  },
  {
   "cell_type": "code",
   "execution_count": 19,
   "id": "488cbb8d-102d-4ab5-b7aa-433bf526c528",
   "metadata": {},
   "outputs": [
    {
     "data": {
      "text/plain": [
       "CompilationUnit(i_begin=98, i_end=153, messages=[\"<anonymous>:5:0: warning: declaration uses 'sorry'\\n\"], invocations=None, goal_state=GoalState(state_id=0, goals=[Goal(id='_uniq.8', variables=[Variable(t='ℝ', v=None, name='a')], target='convergesTo (fun x => a) a', sibling_dep=None, name=None, is_conversion=False)], _sentinel=[]), goal_src_boundaries=[[147, 152]], new_constants=None)"
      ]
     },
     "execution_count": 19,
     "metadata": {},
     "output_type": "execute_result"
    }
   ],
   "source": [
    "# Modify mathlib installation path for your case\n",
    "import os\n",
    "MATHLIB_PATH = os.path.expanduser(\"~/Projects/contrib/formalization/mathlib4\")\n",
    "server = await Server.create(imports=[\"Mathlib\"], project_path=MATHLIB_PATH)\n",
    "\n",
    "\n",
    "sketch = \"\"\"\n",
    "def convergesTo (s : ℕ → ℝ) (a : ℝ) :=\n",
    "  ∀ ε > 0, ∃ N, ∀ n ≥ N, |s n - a| < ε\n",
    "\n",
    "example (a : ℝ) : convergesTo (λ _ => a) a := sorry\n",
    "\"\"\"\n",
    "unit0, unit1 = await server.load_sorry_async(sketch)\n",
    "unit1"
   ]
  },
  {
   "cell_type": "markdown",
   "id": "924b4d17-9ee0-4bf6-8a7b-f90617e5c62a",
   "metadata": {},
   "source": [
    "## A Presentation View Proof\n",
    "\n",
    "We first exhibit a presentation view (non-motivated) proof."
   ]
  },
  {
   "cell_type": "code",
   "execution_count": 18,
   "id": "8647feb4-4296-4705-b9ef-545e06869162",
   "metadata": {},
   "outputs": [
    {
     "name": "stdout",
     "output_type": "stream",
     "text": [
      "a : ℝ\n",
      "ε : ℝ\n",
      "a✝ : ε > 0\n",
      "⊢ ∀ n ≥ 0, |(fun x => a) n - a| < ε\n"
     ]
    }
   ],
   "source": [
    "state0 = unit1.goal_state\n",
    "state1 = await server.goal_tactic_async(state0, 0, \"intro ε _\")\n",
    "state2 = await server.goal_tactic_async(state1, 0, \"use 0\")\n",
    "print(state2)"
   ]
  },
  {
   "cell_type": "code",
   "execution_count": 19,
   "id": "b05fe706-0d8c-4f51-ab67-053fcff17adf",
   "metadata": {},
   "outputs": [
    {
     "data": {
      "text/plain": [
       "True"
      ]
     },
     "execution_count": 19,
     "metadata": {},
     "output_type": "execute_result"
    }
   ],
   "source": [
    "state3 = await server.goal_tactic_async(state2, 0, \"intro n hn\")\n",
    "state4 = await server.goal_tactic_async(state3, 0, \"rw [sub_self, abs_zero]\")\n",
    "state5 = await server.goal_tactic_async(state4, 0, \"apply ‹ε > 0›\")\n",
    "state5.is_solved"
   ]
  },
  {
   "cell_type": "markdown",
   "id": "57136e86-6c40-4524-8d1a-1a8cd9b81ea3",
   "metadata": {},
   "source": [
    "## A Search View Proof"
   ]
  },
  {
   "cell_type": "code",
   "execution_count": 17,
   "id": "6273d458-3780-45e2-a7ed-13cf0d6cddab",
   "metadata": {},
   "outputs": [
    {
     "name": "stdout",
     "output_type": "stream",
     "text": [
      "a : ℝ\n",
      "ε : ℝ\n",
      "a✝ : ε > 0\n",
      "⊢ ∀ n ≥ ?w, |(fun x => a) n - a| < ε\n",
      "a : ℝ\n",
      "ε : ℝ\n",
      "a✝ : ε > 0\n",
      "⊢ ℕ\n"
     ]
    }
   ],
   "source": [
    "state0 = unit1.goal_state\n",
    "state1 = await server.goal_tactic_async(state0, 0, \"intro ε _\")\n",
    "state2 = await server.goal_tactic_async(state1, 0, \"constructor\")\n",
    "print(state2)"
   ]
  },
  {
   "cell_type": "code",
   "execution_count": 11,
   "id": "a1980270-bcbd-4f91-bd39-7fa7fa0f8f5e",
   "metadata": {},
   "outputs": [
    {
     "name": "stdout",
     "output_type": "stream",
     "text": [
      "a : ℝ\n",
      "ε : ℝ\n",
      "a✝ : ε > 0\n",
      "⊢ ∀ n ≥ ?w, |(fun x => a) n - a| < ε\n",
      "a : ℝ\n",
      "ε : ℝ\n",
      "a✝ : ε > 0\n",
      "⊢ ℕ\n"
     ]
    }
   ],
   "source": [
    "print(state2)"
   ]
  },
  {
   "cell_type": "code",
   "execution_count": 13,
   "id": "99c3a0ea-402e-449f-8f19-364914da6113",
   "metadata": {},
   "outputs": [
    {
     "name": "stdout",
     "output_type": "stream",
     "text": [
      "a : ℝ\n",
      "ε : ℝ\n",
      "a✝ : ε > 0\n",
      "n : ℕ\n",
      "hn : n ≥ ?w\n",
      "⊢ 0 < ε\n",
      "a : ℝ\n",
      "ε : ℝ\n",
      "a✝ : ε > 0\n",
      "⊢ ℕ\n"
     ]
    }
   ],
   "source": [
    "state3 = await server.goal_tactic_async(state2, 0, \"intro n hn\")\n",
    "state4 = await server.goal_tactic_async(state3, 0, \"rw [sub_self, abs_zero]\")\n",
    "print(state4)"
   ]
  },
  {
   "cell_type": "code",
   "execution_count": 15,
   "id": "8a09143e-0337-4041-9754-fef2cf9b1290",
   "metadata": {},
   "outputs": [
    {
     "name": "stdout",
     "output_type": "stream",
     "text": [
      "a : ℝ\n",
      "ε : ℝ\n",
      "a✝ : ε > 0\n",
      "⊢ ℕ\n"
     ]
    }
   ],
   "source": [
    "state5 = await server.goal_tactic_async(state4, 0, \"exact ‹ε > 0›\")\n",
    "print(state5)"
   ]
  },
  {
   "cell_type": "code",
   "execution_count": 16,
   "id": "e1a44207-58e2-47f3-8288-dfc466c621e0",
   "metadata": {},
   "outputs": [
    {
     "name": "stdout",
     "output_type": "stream",
     "text": [
      "\n"
     ]
    }
   ],
   "source": [
    "state6 = await server.goal_tactic_async(state5, 0, \"exact 123\")\n",
    "print(state6)"
   ]
  }
 ],
 "metadata": {
  "kernelspec": {
   "display_name": "Python 3 (ipykernel)",
   "language": "python",
   "name": "python3"
  },
  "language_info": {
   "codemirror_mode": {
    "name": "ipython",
    "version": 3
   },
   "file_extension": ".py",
   "mimetype": "text/x-python",
   "name": "python",
   "nbconvert_exporter": "python",
   "pygments_lexer": "ipython3",
   "version": "3.12.7"
  }
 },
 "nbformat": 4,
 "nbformat_minor": 5
}
