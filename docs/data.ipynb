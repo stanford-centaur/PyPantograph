{
 "cells": [
  {
   "cell_type": "markdown",
   "id": "fe7a3037-5c49-4097-9a5d-575b958cc7f8",
   "metadata": {},
   "source": [
    "# Data Extraction"
   ]
  },
  {
   "cell_type": "code",
   "execution_count": 1,
   "id": "fc68ad1d-e64c-48b7-9461-50d872d30473",
   "metadata": {},
   "outputs": [],
   "source": [
    "import os\n",
    "from pathlib import Path\n",
    "from pantograph.server import Server"
   ]
  },
  {
   "cell_type": "markdown",
   "id": "fd13c644-d731-4f81-964e-584bbd43e51c",
   "metadata": {},
   "source": [
    "## Tactic Invocation\n",
    "\n",
    "Pantograph can extract tactic invocation data from a Lean file. A **tactic\n",
    "invocation** is a tuple containing the before and after goal states, and the\n",
    "tactic which converts the \"before\" state to the \"after\" state.\n",
    "\n",
    "To extract tactic invocation data, use `server.tactic_invocations(file_name)`\n",
    "and supply the file name of the input Lean file."
   ]
  },
  {
   "cell_type": "code",
   "execution_count": 2,
   "id": "6282dc6f-4eac-4263-8277-9d54d19ad1a5",
   "metadata": {},
   "outputs": [
    {
     "name": "stdout",
     "output_type": "stream",
     "text": [
      "$PWD: /home/aniva/Projects/matp/PyPantograph/examples/Example\n"
     ]
    }
   ],
   "source": [
    "project_path = Path(os.getcwd()).parent.resolve() / 'examples/Example'\n",
    "print(f\"$PWD: {project_path}\")\n",
    "server = await Server.create(imports=['Example'], project_path=project_path)\n",
    "units = await server.tactic_invocations_async(project_path / \"Example.lean\")"
   ]
  },
  {
   "cell_type": "markdown",
   "id": "c3c1be91-27a5-4481-b09d-a32dbb94b058",
   "metadata": {},
   "source": [
    "The function returns a list of `CompilationUnit` objects, corresponding to each compilation unit in the input Lean file. For performance reasons only the text boundaries are loaded into `CompilationUnit`s."
   ]
  },
  {
   "cell_type": "code",
   "execution_count": 3,
   "id": "e994aa2b-5d5e-4f86-af6c-40e0b3a032d2",
   "metadata": {},
   "outputs": [
    {
     "name": "stdout",
     "output_type": "stream",
     "text": [
      "#0: [14,85]\n",
      "/-- Ensure that Aesop is running -/\n",
      "example : α → α :=\n",
      "  by aesop\n",
      "\n",
      "\n",
      "#1: [85,254]\n",
      "example : ∀ (p q: Prop), p ∨ q → q ∨ p := by\n",
      "  intro p q h\n",
      "  -- Here are some comments\n",
      "  cases h\n",
      "  . apply Or.inr\n",
      "    assumption\n",
      "  . apply Or.inl\n",
      "    assumption\n",
      "\n"
     ]
    }
   ],
   "source": [
    "with open(project_path / \"Example.lean\", 'rb') as f:\n",
    "    content = f.read()\n",
    "    for i, unit in enumerate(units):\n",
    "        print(f\"#{i}: [{unit.i_begin},{unit.i_end}]\")\n",
    "        unit_text = content[unit.i_begin:unit.i_end].decode('utf-8')\n",
    "        print(unit_text)"
   ]
  },
  {
   "cell_type": "markdown",
   "id": "52e650fc-4a87-445f-8aa8-707ed9e36c03",
   "metadata": {},
   "source": [
    "Each `CompilationUnit` includes a list of `TacticInvocation`s, which contains the `.before` (corresponding to the state before the tactic), `.after` (corresponding to the state after the tactic), and `.tactic` (tactic executed) fields. "
   ]
  },
  {
   "cell_type": "code",
   "execution_count": 4,
   "id": "8e0f0def-dd3c-4550-8a7c-b4aec6c7fd7f",
   "metadata": {},
   "outputs": [
    {
     "name": "stdout",
     "output_type": "stream",
     "text": [
      "[Before]\n",
      "α : Sort ?u.7\n",
      "⊢ α → α\n",
      "[Tactic]\n",
      "aesop (using [])\n",
      "[After]\n",
      "\n"
     ]
    }
   ],
   "source": [
    "for i in units[0].invocations:\n",
    "    print(f\"[Before]\\n{i.before}\")\n",
    "    print(f\"[Tactic]\\n{i.tactic} (using {i.used_constants})\")\n",
    "    print(f\"[After]\\n{i.after}\")"
   ]
  },
  {
   "cell_type": "code",
   "execution_count": 5,
   "id": "51f5398b-5416-4dc1-81cd-6d2514758232",
   "metadata": {
    "scrolled": true
   },
   "outputs": [
    {
     "name": "stdout",
     "output_type": "stream",
     "text": [
      "[Before]\n",
      "⊢ ∀ (p q : Prop), p ∨ q → q ∨ p\n",
      "[Tactic]\n",
      "intro p q h (using [])\n",
      "[After]\n",
      "p q : Prop\n",
      "h : p ∨ q\n",
      "⊢ q ∨ p\n",
      "[Before]\n",
      "p q : Prop\n",
      "h : p ∨ q\n",
      "⊢ q ∨ p\n",
      "[Tactic]\n",
      "cases h (using ['Eq.refl', 'Or'])\n",
      "[After]\n",
      "case inl\n",
      "p q : Prop\n",
      "h✝ : p\n",
      "⊢ q ∨ p\n",
      "case inr\n",
      "p q : Prop\n",
      "h✝ : q\n",
      "⊢ q ∨ p\n",
      "[Before]\n",
      "case inl\n",
      "p q : Prop\n",
      "h✝ : p\n",
      "⊢ q ∨ p\n",
      "[Tactic]\n",
      "apply Or.inr (using ['Or.inr'])\n",
      "[After]\n",
      "case inl.h\n",
      "p q : Prop\n",
      "h✝ : p\n",
      "⊢ p\n",
      "[Before]\n",
      "case inl.h\n",
      "p q : Prop\n",
      "h✝ : p\n",
      "⊢ p\n",
      "[Tactic]\n",
      "assumption (using [])\n",
      "[After]\n",
      "\n",
      "[Before]\n",
      "case inr\n",
      "p q : Prop\n",
      "h✝ : q\n",
      "⊢ q ∨ p\n",
      "[Tactic]\n",
      "apply Or.inl (using ['Or.inl'])\n",
      "[After]\n",
      "case inr.h\n",
      "p q : Prop\n",
      "h✝ : q\n",
      "⊢ q\n",
      "[Before]\n",
      "case inr.h\n",
      "p q : Prop\n",
      "h✝ : q\n",
      "⊢ q\n",
      "[Tactic]\n",
      "assumption (using [])\n",
      "[After]\n",
      "\n"
     ]
    }
   ],
   "source": [
    "for i in units[1].invocations:\n",
    "    print(f\"[Before]\\n{i.before}\")\n",
    "    print(f\"[Tactic]\\n{i.tactic} (using {i.used_constants})\")\n",
    "    print(f\"[After]\\n{i.after}\")"
   ]
  },
  {
   "cell_type": "markdown",
   "id": "3a8b5b28-a012-4d83-a6a9-ed017a8e1fc2",
   "metadata": {},
   "source": [
    "## Check Compilation\n",
    "\n",
    "Use `check_compile` to check if some Lean code compiles.\n",
    "\n",
    "Keep in mind that Lean compilation can execute arbitrary code."
   ]
  },
  {
   "cell_type": "code",
   "execution_count": 6,
   "id": "87e99da0-6e16-48c3-a462-1bfacb0d0cc7",
   "metadata": {},
   "outputs": [
    {
     "data": {
      "text/plain": [
       "[CompilationUnit(i_begin=0, i_end=31, messages=[], invocations=None, goal_state=None, goal_src_boundaries=None, new_constants=None)]"
      ]
     },
     "execution_count": 6,
     "metadata": {},
     "output_type": "execute_result"
    }
   ],
   "source": [
    "server = await Server.create()\n",
    "code = \"\"\"\n",
    "example : 1 + 1 = 2 := by rfl\n",
    "\"\"\"\n",
    "await server.check_compile_async(code)"
   ]
  },
  {
   "cell_type": "markdown",
   "id": "adf0dee9-33de-4640-b35a-3e093e590963",
   "metadata": {},
   "source": [
    "If there are no error messages, it means the unit compiles."
   ]
  },
  {
   "cell_type": "markdown",
   "id": "14e42793-e177-447b-89d3-edb16931f6e9",
   "metadata": {},
   "source": [
    "## Loading Definitions\n",
    "\n",
    "Pantograph keeps track of a global environment. `Server.load_definitions` adds new definitions to the environment."
   ]
  },
  {
   "cell_type": "code",
   "execution_count": 7,
   "id": "9d322474-6a6e-4c32-945b-9e7942b78826",
   "metadata": {},
   "outputs": [
    {
     "data": {
      "text/plain": [
       "{'type': {'pp': 'Nat → Nat'},\n",
       " 'sourceStart': {'line': 2, 'column': 0},\n",
       " 'sourceEnd': {'line': 2, 'column': 42},\n",
       " 'isUnsafe': False}"
      ]
     },
     "execution_count": 7,
     "metadata": {},
     "output_type": "execute_result"
    }
   ],
   "source": [
    "code = \"\"\"\n",
    "def mystery : Nat -> Nat := fun x => x + 1\n",
    "\"\"\"\n",
    "await server.load_definitions_async(code)\n",
    "await server.env_inspect_async(\"mystery\")"
   ]
  },
  {
   "cell_type": "code",
   "execution_count": null,
   "id": "2c5568e2-e794-48dc-a3da-33efee9d7202",
   "metadata": {},
   "outputs": [],
   "source": []
  }
 ],
 "metadata": {
  "kernelspec": {
   "display_name": "Python 3 (ipykernel)",
   "language": "python",
   "name": "python3"
  },
  "language_info": {
   "codemirror_mode": {
    "name": "ipython",
    "version": 3
   },
   "file_extension": ".py",
   "mimetype": "text/x-python",
   "name": "python",
   "nbconvert_exporter": "python",
   "pygments_lexer": "ipython3",
   "version": "3.12.9"
  }
 },
 "nbformat": 4,
 "nbformat_minor": 5
}
