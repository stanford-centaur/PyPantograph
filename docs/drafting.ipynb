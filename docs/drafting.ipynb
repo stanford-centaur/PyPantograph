{
 "cells": [
  {
   "cell_type": "markdown",
   "id": "aecc5260-56ad-4734-8917-3a4d92910309",
   "metadata": {},
   "source": [
    "# Drafting\n",
    "\n",
    "Pantograph supports drafting (technically the sketch step) from\n",
    "[Draft-Sketch-Prove](https://github.com/wellecks/ntptutorial/tree/main/partII_dsp).\n",
    "Pantograph's drafting feature is more powerful. At any place in the proof, you\n",
    "can replace an expression with `sorry`, and the `sorry` will become a goal. Any type errors will also become goals. In order to detect whether type errors have occurred, the user can look at the messages from each compilation unit.\n",
    "\n",
    "At this point we must introduce the idea of compilation units. Each Lean\n",
    "definition, theorem, constant, etc., is a *compilation unit*. When Pantograph\n",
    "extracts data from Lean source code, it sections the data into these compilation\n",
    "units.\n",
    "\n",
    "For example, consider this sketch produced by a language model prover:\n",
    "```lean\n",
    "by\n",
    "   intros n m\n",
    "   induction n with\n",
    "   | zero =>\n",
    "     have h_base: 0 + m = m := sorry\n",
    "     have h_symm: m + 0 = m := sorry\n",
    "     sorry\n",
    "   | succ n ih =>\n",
    "     have h_inductive: n + m = m + n := sorry\n",
    "     have h_pull_succ_out_from_right: m + Nat.succ n = Nat.succ (m + n) := sorry\n",
    "     have h_flip_n_plus_m: Nat.succ (n + m) = Nat.succ (m + n) := sorry\n",
    "     have h_pull_succ_out_from_left: Nat.succ n + m = Nat.succ (n + m) := sorry\n",
    "     sorry\n",
    "```\n",
    "There are some `sorry`s that we want to solve automatically with hammer tactics. We can do this by drafting. We first load the goal statement using `load_sorry`. We highly discourage writing more than 1 `sorry` in a theorem statement."
   ]
  },
  {
   "cell_type": "code",
   "execution_count": 1,
   "id": "52bd153d-235c-47fa-917e-415d444867a5",
   "metadata": {},
   "outputs": [
    {
     "name": "stdout",
     "output_type": "stream",
     "text": [
      "payload: {\"printDependentMVars\": true}\n",
      "payload: {\"file\": \"\\ntheorem add_comm_proved_formal_sketch : ∀ n m : Nat, n + m = m + n := sorry\\n\", \"invocations\": false, \"sorrys\": true, \"newConstants\": false, \"readHeader\": false, \"inheritEnv\": false, \"typeErrorsAsGoals\": false}\n",
      "\n",
      "⊢ ∀ (n m : Nat), n + m = m + n\n"
     ]
    }
   ],
   "source": [
    "from pantograph import Server\n",
    "\n",
    "sketch = \"\"\"\n",
    "theorem add_comm_proved_formal_sketch : ∀ n m : Nat, n + m = m + n := sorry\n",
    "\"\"\"\n",
    "server = await Server.create()\n",
    "unit, = await server.load_sorry_async(sketch)\n",
    "print(unit.goal_state)"
   ]
  },
  {
   "cell_type": "markdown",
   "id": "0d4dda56-7b7f-4c4c-b59d-af6f857d7788",
   "metadata": {},
   "source": [
    "For an in-depth example, see `experiments/dsp`."
   ]
  },
  {
   "cell_type": "code",
   "execution_count": 2,
   "id": "eaf8e506-a6d1-4e9a-ad7a-f7bbb82e01c6",
   "metadata": {},
   "outputs": [
    {
     "name": "stdout",
     "output_type": "stream",
     "text": [
      "payload: {\"stateId\": 0, \"goalId\": 0, \"draft\": \"\\nby\\n   -- Consider some n and m in Nats.\\n   intros n m\\n   -- Perform induction on n.\\n   induction n with\\n   | zero =>\\n     -- Base case: When n = 0, we need to show 0 + m = m + 0.\\n     -- We have the fact 0 + m = m by the definition of addition.\\n     have h_base: 0 + m = m := sorry\\n     -- We also have the fact m + 0 = m by the definition of addition.\\n     have h_symm: m + 0 = m := sorry\\n     -- Combine facts to close goal\\n     sorry\\n   | succ n ih =>\\n     sorry\\n\"}\n",
      "n : Nat\n",
      "m : Nat\n",
      "⊢ 0 + m = m\n",
      "n : Nat\n",
      "m : Nat\n",
      "h_base : 0 + m = m\n",
      "⊢ m + 0 = m\n",
      "n : Nat\n",
      "m : Nat\n",
      "h_base : 0 + m = m\n",
      "h_symm : m + 0 = m\n",
      "⊢ 0 + m = m + 0\n",
      "n✝ : Nat\n",
      "m : Nat\n",
      "n : Nat\n",
      "ih : n + m = m + n\n",
      "⊢ n + 1 + m = m + (n + 1)\n"
     ]
    }
   ],
   "source": [
    "step = \"\"\"\n",
    "by\n",
    "   -- Consider some n and m in Nats.\n",
    "   intros n m\n",
    "   -- Perform induction on n.\n",
    "   induction n with\n",
    "   | zero =>\n",
    "     -- Base case: When n = 0, we need to show 0 + m = m + 0.\n",
    "     -- We have the fact 0 + m = m by the definition of addition.\n",
    "     have h_base: 0 + m = m := sorry\n",
    "     -- We also have the fact m + 0 = m by the definition of addition.\n",
    "     have h_symm: m + 0 = m := sorry\n",
    "     -- Combine facts to close goal\n",
    "     sorry\n",
    "   | succ n ih =>\n",
    "     sorry\n",
    "\"\"\"\n",
    "from pantograph.expr import TacticDraft\n",
    "tactic = TacticDraft(step)\n",
    "state1 = await server.goal_tactic_async(unit.goal_state, tactic)\n",
    "print(state1)"
   ]
  },
  {
   "cell_type": "code",
   "execution_count": null,
   "id": "410144f1-3f3b-4936-9d63-138871d70851",
   "metadata": {},
   "outputs": [],
   "source": []
  }
 ],
 "metadata": {
  "kernelspec": {
   "display_name": "Python 3 (ipykernel)",
   "language": "python",
   "name": "python3"
  },
  "language_info": {
   "codemirror_mode": {
    "name": "ipython",
    "version": 3
   },
   "file_extension": ".py",
   "mimetype": "text/x-python",
   "name": "python",
   "nbconvert_exporter": "python",
   "pygments_lexer": "ipython3",
   "version": "3.13.0"
  }
 },
 "nbformat": 4,
 "nbformat_minor": 5
}
