{
 "cells": [
  {
   "cell_type": "markdown",
   "id": "72e488d8-74fb-4599-9bf9-e10e97d90ad0",
   "metadata": {},
   "source": [
    "# Parallelization and Security Demo"
   ]
  },
  {
   "cell_type": "markdown",
   "id": "c4f0d6f0-bce8-4211-8fc3-55c9a9a8bd42",
   "metadata": {},
   "source": [
    "## Setup\n",
    "\n",
    "1. Install [`elan`](https://github.com/leanprover/elan)\n",
    "2. Install [Mathlib4](https://github.com/leanprover-community/mathlib4/tree/v4.20.1)\n",
    "3. Enter the Mathlib directory, and run `lake exe cache get` (otherwise it will be compiled from scratch! takes hours)"
   ]
  },
  {
   "cell_type": "code",
   "execution_count": 1,
   "id": "73e253d5-63aa-4664-ae28-c1147f4baf16",
   "metadata": {},
   "outputs": [],
   "source": [
    "from pantograph import Server\n",
    "from pantograph.expr import TacticExpr\n",
    "\n",
    "import os\n",
    "\n",
    "DIR_MATHLIB = os.path.expanduser(\"~/Projects/contrib/formalization/mathlib4\")"
   ]
  },
  {
   "cell_type": "markdown",
   "id": "603eb694-f484-41cd-8292-914dfc2ba2f3",
   "metadata": {},
   "source": [
    "## Background\n",
    "\n",
    "Each Pantograph instance carries with it an Environment. We can inspect the type and location of a symbol in the environment."
   ]
  },
  {
   "cell_type": "code",
   "execution_count": 2,
   "id": "f6179614-8f81-453f-bbbb-ffd36df79072",
   "metadata": {},
   "outputs": [
    {
     "data": {
      "text/plain": [
       "{'type': {'pp': '∀ (n m : Nat), n + m = m + n'},\n",
       " 'sourceStart': {'line': 156, 'column': 0},\n",
       " 'sourceEnd': {'line': 161, 'column': 14},\n",
       " 'module': 'Init.Data.Nat.Basic',\n",
       " 'isUnsafe': False}"
      ]
     },
     "execution_count": 2,
     "metadata": {},
     "output_type": "execute_result"
    }
   ],
   "source": [
    "server = await Server.create()\n",
    "await server.env_inspect_async(\"Nat.add_comm\")"
   ]
  },
  {
   "cell_type": "markdown",
   "id": "8644e21b-8dcd-4b11-866e-10c933d346d7",
   "metadata": {},
   "source": [
    "We can run a basic form proof verification using `check_compile`. Note that this version is insecure."
   ]
  },
  {
   "cell_type": "code",
   "execution_count": 3,
   "id": "0436a193-48ee-4c3a-9139-fd231623806b",
   "metadata": {},
   "outputs": [
    {
     "data": {
      "text/plain": [
       "[CompilationUnit(i_begin=0, i_end=39, messages=[], invocations=None, goal_state=None, goal_src_boundaries=None, new_constants=None)]"
      ]
     },
     "execution_count": 3,
     "metadata": {},
     "output_type": "execute_result"
    }
   ],
   "source": [
    "code = \"\"\"\n",
    "example (n : Nat) : n = n := by\n",
    "  rfl\n",
    "\"\"\"\n",
    "await server.check_compile_async(code)"
   ]
  },
  {
   "cell_type": "markdown",
   "id": "fa833681-6d2f-4d66-89e8-4ed7cb4c9701",
   "metadata": {},
   "source": [
    "Proof search and verification use the same interface, which has been deliberately engineered for security. In the example below, the agent supplying the proof has no chance of altering the statement."
   ]
  },
  {
   "cell_type": "code",
   "execution_count": 4,
   "id": "419a1a48-b74e-4067-8a41-36dc36475af1",
   "metadata": {},
   "outputs": [
    {
     "data": {
      "text/plain": [
       "GoalState(state_id=1, goals=[], messages=[], _sentinel=[0])"
      ]
     },
     "execution_count": 4,
     "metadata": {},
     "output_type": "execute_result"
    }
   ],
   "source": [
    "state = await server.goal_start_async(\"forall (n : Nat), n = n\")\n",
    "proof_body = \"\"\"\n",
    "by\n",
    "   intro n\n",
    "   rfl\n",
    "\"\"\"\n",
    "state = await server.goal_tactic_async(state, TacticExpr(proof_body))\n",
    "state"
   ]
  },
  {
   "cell_type": "markdown",
   "id": "09632a3e-a145-43dd-9d11-4d913603a61e",
   "metadata": {},
   "source": [
    "We can also run a proof incrementally. This forms the basis of tree search."
   ]
  },
  {
   "cell_type": "code",
   "execution_count": 5,
   "id": "4c315760-61bf-4376-ba4c-a3e62918b08d",
   "metadata": {
    "scrolled": true
   },
   "outputs": [
    {
     "data": {
      "text/plain": [
       "GoalState(state_id=4, goals=[], messages=[], _sentinel=[0, 2, 3])"
      ]
     },
     "execution_count": 5,
     "metadata": {},
     "output_type": "execute_result"
    }
   ],
   "source": [
    "state = await server.goal_start_async(\"forall (n : Nat), n = n\")\n",
    "state = await server.goal_tactic_async(state, \"intro n\")\n",
    "state = await server.goal_tactic_async(state, \"rfl\")\n",
    "state"
   ]
  },
  {
   "cell_type": "markdown",
   "id": "198da4b5-e57b-48c9-b09d-4febcaa5bac5",
   "metadata": {},
   "source": [
    "## Serialization\n",
    "\n",
    "Pantograph supports serialization/deserialization of goal states."
   ]
  },
  {
   "cell_type": "code",
   "execution_count": 6,
   "id": "fd19f574-1480-4155-b95f-0c78917aca0e",
   "metadata": {},
   "outputs": [],
   "source": [
    "server = await Server.create(imports=[\"Mathlib\"], project_path=DIR_MATHLIB)"
   ]
  },
  {
   "cell_type": "markdown",
   "id": "a7342d41-8ef3-44d7-942f-0f26b78b5b3a",
   "metadata": {},
   "source": [
    "We can save and load goal states."
   ]
  },
  {
   "cell_type": "code",
   "execution_count": 7,
   "id": "c87b462a-2055-48ea-9be8-a194867a4187",
   "metadata": {},
   "outputs": [],
   "source": [
    "state = await server.goal_start_async(\"forall (n : Nat), n = n\")\n",
    "await server.goal_save_async(state, \"/tmp/goal.olean\")"
   ]
  },
  {
   "cell_type": "code",
   "execution_count": 8,
   "id": "31c1cf26-638e-4b1f-831c-8200d29f033d",
   "metadata": {},
   "outputs": [],
   "source": [
    "server2 = await Server.create(imports=[\"Mathlib\"], project_path=DIR_MATHLIB)"
   ]
  },
  {
   "cell_type": "markdown",
   "id": "0c615c58-56bd-4309-bd25-64ea6cffb996",
   "metadata": {},
   "source": [
    "Warning: Due to the possibilities of constant initializers, serializing and deserializing environment is only permitted under special circumstances."
   ]
  },
  {
   "cell_type": "code",
   "execution_count": 9,
   "id": "4846e28f-e2e0-426b-afdb-c79a26192108",
   "metadata": {},
   "outputs": [
    {
     "name": "stdout",
     "output_type": "stream",
     "text": [
      "\n",
      "⊢ ∀ (n : ℕ), n = n\n"
     ]
    }
   ],
   "source": [
    "state2 = await server2.goal_load_async(\"/tmp/goal.olean\")\n",
    "print(state2)"
   ]
  },
  {
   "cell_type": "markdown",
   "id": "fa665273-65fb-47b8-b261-76b688d42948",
   "metadata": {},
   "source": [
    "## Security\n",
    "\n",
    "Even just type checking top-level Lean code is a security vulnerability!"
   ]
  },
  {
   "cell_type": "code",
   "execution_count": 10,
   "id": "5e40395f-008c-45e9-9db1-c412d17c2282",
   "metadata": {},
   "outputs": [
    {
     "data": {
      "text/plain": [
       "[CompilationUnit(i_begin=0, i_end=93, messages=['\\x1b[34mArchive\\x1b[m\\x1b[m\\nArchive.lean\\nbors.toml\\n\\x1b[34mCache\\x1b[m\\x1b[m\\nCODE_OF_CONDUCT.md\\n\\x1b[34mCounterexamples\\x1b[m\\x1b[m\\nCounterexamples.lean\\n\\x1b[34mdocs\\x1b[m\\x1b[m\\ndocs.lean\\n\\x1b[34mDownstreamTest\\x1b[m\\x1b[m\\n\\x1b[34mExamples\\x1b[m\\x1b[m\\nGNUmakefile\\nlake-manifest.json\\nlakefile.lean\\nlean-toolchain\\nLICENSE\\n\\x1b[34mLongestPole\\x1b[m\\x1b[m\\n\\x1b[34mMathlib\\x1b[m\\x1b[m\\nMathlib.lean\\n\\x1b[34mMathlibTest\\x1b[m\\x1b[m\\nREADME.md\\n\\x1b[34mSandbox\\x1b[m\\x1b[m\\n\\x1b[34mscripts\\x1b[m\\x1b[m\\n\\x1b[34mShake\\x1b[m\\x1b[m\\n\\x1b[34mwidget\\x1b[m\\x1b[m\\n\\n'], invocations=None, goal_state=None, goal_src_boundaries=None, new_constants=None)]"
      ]
     },
     "execution_count": 10,
     "metadata": {},
     "output_type": "execute_result"
    }
   ],
   "source": [
    "code = \"\"\"\n",
    "#eval do\n",
    "  let result <- IO.Process.output { cmd := \"ls\" }\n",
    "  IO.println s!\"{result.stdout}\"\n",
    "\"\"\"\n",
    "await server.check_compile_async(code)"
   ]
  },
  {
   "cell_type": "code",
   "execution_count": null,
   "id": "e82f4b36-f92c-4926-9cad-0bad5bd3cde1",
   "metadata": {},
   "outputs": [],
   "source": []
  }
 ],
 "metadata": {
  "kernelspec": {
   "display_name": "Python 3 (ipykernel)",
   "language": "python",
   "name": "python3"
  },
  "language_info": {
   "codemirror_mode": {
    "name": "ipython",
    "version": 3
   },
   "file_extension": ".py",
   "mimetype": "text/x-python",
   "name": "python",
   "nbconvert_exporter": "python",
   "pygments_lexer": "ipython3",
   "version": "3.13.0"
  }
 },
 "nbformat": 4,
 "nbformat_minor": 5
}
