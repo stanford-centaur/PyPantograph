{
 "cells": [
  {
   "cell_type": "markdown",
   "id": "c5106980-4850-4bea-a333-5a1b2e4d1dc5",
   "metadata": {},
   "source": [
    "# Goals and Tactics\n",
    "\n",
    "Executing tactics in Pantograph is simple. To start a proof, call the\n",
    "`Server.goal_start` function and supply an expression."
   ]
  },
  {
   "cell_type": "code",
   "execution_count": 1,
   "id": "3257de2b-41ca-4cfe-b66c-1ef4781c98b0",
   "metadata": {},
   "outputs": [],
   "source": [
    "from pantograph import Server\n",
    "from pantograph.expr import Site, TacticHave, TacticExpr, TacticMode"
   ]
  },
  {
   "cell_type": "code",
   "execution_count": 2,
   "id": "6783d478-d8c7-4c4e-a56e-8170384297ef",
   "metadata": {},
   "outputs": [],
   "source": [
    "server = await Server.create()\n",
    "state0 = await server.goal_start_async(\"forall (p q: Prop), Or p q -> Or q p\")"
   ]
  },
  {
   "cell_type": "markdown",
   "id": "bfe5a9df-33c2-4538-a9ce-fc0e02c92ff2",
   "metadata": {},
   "source": [
    "This creates a *goal state*, which consists of some goals. In this\n",
    "case since it is the beginning of a state, it has only one goal."
   ]
  },
  {
   "cell_type": "code",
   "execution_count": 3,
   "id": "eefc9094-9574-4f92-9aa2-c39beb85389b",
   "metadata": {},
   "outputs": [
    {
     "name": "stdout",
     "output_type": "stream",
     "text": [
      "\n",
      "⊢ forall (p q: Prop), Or p q -> Or q p\n"
     ]
    }
   ],
   "source": [
    "print(state0)"
   ]
  },
  {
   "cell_type": "markdown",
   "id": "26dbe212-e09e-42dd-ab15-65ee2fba6234",
   "metadata": {},
   "source": [
    "To execute a tactic on a goal state, use `Server.goal_tactic`. This function\n",
    "takes a state, a tactic, and an optional site (see below). Most Lean tactics are strings."
   ]
  },
  {
   "cell_type": "code",
   "execution_count": 4,
   "id": "c907dbb6-4d6a-4aa7-b173-60220165ba9e",
   "metadata": {},
   "outputs": [
    {
     "name": "stdout",
     "output_type": "stream",
     "text": [
      "a : Prop\n",
      "⊢ ∀ (q : Prop), a ∨ q → q ∨ a\n"
     ]
    }
   ],
   "source": [
    "state1 = await server.goal_tactic_async(state0, \"intro a\")\n",
    "print(state1)"
   ]
  },
  {
   "cell_type": "markdown",
   "id": "9978fdcf-a12b-4f22-9551-5e04c262e5e0",
   "metadata": {},
   "source": [
    "Executing a tactic produces a new goal state. If this goal state has no goals,\n",
    "the proof is complete. You can recover the usual form of a goal with `str()`"
   ]
  },
  {
   "cell_type": "code",
   "execution_count": 5,
   "id": "16595c5e-2285-49d5-8340-397ad1e6c9e7",
   "metadata": {},
   "outputs": [
    {
     "name": "stdout",
     "output_type": "stream",
     "text": [
      "a : Prop\n",
      "⊢ ∀ (q : Prop), a ∨ q → q ∨ a\n"
     ]
    }
   ],
   "source": [
    "print(state1.goals[0])"
   ]
  },
  {
   "cell_type": "markdown",
   "id": "837dae74-b2d7-4e81-a318-86641dd016f9",
   "metadata": {},
   "source": [
    "Starting in v0.3.5, you can run multiple tactics in one shot. Use `?_` to mark goals to be solved later."
   ]
  },
  {
   "cell_type": "code",
   "execution_count": 6,
   "id": "6c70dbe0-e7ad-4bc2-bafe-0e59d78ccd3a",
   "metadata": {},
   "outputs": [
    {
     "name": "stdout",
     "output_type": "stream",
     "text": [
      "inl\n",
      "p : Prop\n",
      "q : Prop\n",
      "h✝ : p\n",
      "⊢ q ∨ p\n",
      "inr\n",
      "p : Prop\n",
      "q : Prop\n",
      "h✝ : q\n",
      "⊢ q ∨ p\n"
     ]
    }
   ],
   "source": [
    "state2 = await server.goal_tactic_async(state0, \"intro p q\\nintro h\\ncases h\")\n",
    "print(state2)"
   ]
  },
  {
   "cell_type": "code",
   "execution_count": 7,
   "id": "529edf1a-27bc-45a2-bbac-01e8756310a2",
   "metadata": {},
   "outputs": [
    {
     "name": "stdout",
     "output_type": "stream",
     "text": [
      "refine_2.inl\n",
      "p : Prop\n",
      "q : Prop\n",
      "random : 1 + 1 = 2\n",
      "h✝ : p\n",
      "⊢ q ∨ p\n",
      "refine_2.inr\n",
      "p : Prop\n",
      "q : Prop\n",
      "random : 1 + 1 = 2\n",
      "h✝ : q\n",
      "⊢ q ∨ p\n",
      "refine_1\n",
      "p : Prop\n",
      "q : Prop\n",
      "h : p ∨ q\n",
      "⊢ 1 + 1 = 2\n"
     ]
    }
   ],
   "source": [
    "state2 = await server.goal_tactic_async(state0, \"intro p q h\\nhave random : 1 + 1 = 2 := ?_\\ncases h\")\n",
    "print(state2)"
   ]
  },
  {
   "cell_type": "markdown",
   "id": "67f2a75d-6851-4393-bac9-a091400f1906",
   "metadata": {},
   "source": [
    "## Error Handling and GC\n",
    "\n",
    "When a tactic fails, it throws an exception (`TacticFailure`) which contains a list of either `str`s or `Message` objects in `e.args[0]`."
   ]
  },
  {
   "cell_type": "code",
   "execution_count": 8,
   "id": "c9784ba2-3810-4f80-a6c4-33d5eef3003e",
   "metadata": {
    "scrolled": true
   },
   "outputs": [
    {
     "name": "stdout",
     "output_type": "stream",
     "text": [
      "[Message(data=\"tactic 'assumption' failed\\na : Prop\\n⊢ ∀ (q : Prop), a ∨ q → q ∨ a\", pos=Position(line=0, column=0), pos_end=None, severity=<Severity.ERROR: 3>, kind=None)]\n",
      "0:0: error: tactic 'assumption' failed\n",
      "a : Prop\n",
      "⊢ ∀ (q : Prop), a ∨ q → q ∨ a\n"
     ]
    }
   ],
   "source": [
    "from pantograph.message import TacticFailure\n",
    "try:\n",
    "    state2 = await server.goal_tactic_async(state1, \"assumption\")\n",
    "    print(\"Should not reach this\")\n",
    "except TacticFailure as e:\n",
    "    print(e)\n",
    "    for msg in e.args[0]:\n",
    "        print(msg)"
   ]
  },
  {
   "cell_type": "markdown",
   "id": "1ae60d9e-8656-4f26-b495-d04bced250fc",
   "metadata": {},
   "source": [
    "A state with no goals is considered solved"
   ]
  },
  {
   "cell_type": "code",
   "execution_count": 9,
   "id": "1cb96b19-d3bb-4533-abeb-a7dbc5bc8c3e",
   "metadata": {},
   "outputs": [
    {
     "data": {
      "text/plain": [
       "GoalState(#7, goals=[], _sentinel=#4"
      ]
     },
     "execution_count": 9,
     "metadata": {},
     "output_type": "execute_result"
    }
   ],
   "source": [
    "state0 = await server.goal_start_async(\"forall (p : Prop), p -> p\")\n",
    "state1 = await server.goal_tactic_async(state0, \"intro\")\n",
    "state2 = await server.goal_tactic_async(state1, \"intro h\")\n",
    "state3 = await server.goal_tactic_async(state2, \"exact h\")\n",
    "state3"
   ]
  },
  {
   "cell_type": "markdown",
   "id": "a2945e71-e583-4ae0-9c0f-83035f0492f2",
   "metadata": {},
   "source": [
    "Execute `server.gc()` once in a while to delete unused goals."
   ]
  },
  {
   "cell_type": "code",
   "execution_count": 10,
   "id": "d53624ff-c720-4847-98f7-28e109eb76e7",
   "metadata": {},
   "outputs": [],
   "source": [
    "await server.gc_async()"
   ]
  },
  {
   "cell_type": "markdown",
   "id": "0b59e05e-7d8c-4fad-b8ca-375ea995ea5b",
   "metadata": {},
   "source": [
    "## Special Tactics\n",
    "\n",
    "Lean has special provisions for some tactics. This includes `have`, `let`,\n",
    "`calc`. To execute one of these tactics, create a `TacticHave`, `TacticLet`,\n",
    "instance and feed it into `server.goal_tactic`.\n",
    "\n",
    "Technically speaking `have` and `let` are not tactics in Lean, so their execution requires special attention. In v0.3.5, they can be run under the normal tactic function as well (see above)."
   ]
  },
  {
   "cell_type": "code",
   "execution_count": 11,
   "id": "526d620b-064f-4ec0-a7b2-6a1ef3c6f6e7",
   "metadata": {},
   "outputs": [
    {
     "name": "stdout",
     "output_type": "stream",
     "text": [
      "\n",
      "⊢ 2 = 1 + 1\n",
      "h : 2 = 1 + 1\n",
      "⊢ 1 + 1 = 2\n"
     ]
    }
   ],
   "source": [
    "state0 = await server.goal_start_async(\"1 + 1 = 2\")\n",
    "state1 = await server.goal_tactic_async(state0, TacticHave(branch=\"2 = 1 + 1\", binder_name=\"h\"))\n",
    "print(state1)"
   ]
  },
  {
   "cell_type": "markdown",
   "id": "c415d436-ed0d-475f-bf5e-b8dc63954c7e",
   "metadata": {},
   "source": [
    "The `TacticExpr` \"tactic\" parses an expression and assigns it to the current\n",
    "goal.  This leverages Lean's type unification system and is as expressive as\n",
    "Lean expressions. Many proofs in Mathlib4 are written in a mixture of expression\n",
    "and tactic forms."
   ]
  },
  {
   "cell_type": "code",
   "execution_count": 12,
   "id": "e1f06441-4d77-45a7-a1c3-b800b96a8105",
   "metadata": {},
   "outputs": [
    {
     "name": "stdout",
     "output_type": "stream",
     "text": [
      "\n"
     ]
    }
   ],
   "source": [
    "state0 = await server.goal_start_async(\"forall (p : Prop), p -> p\")\n",
    "state1 = await server.goal_tactic_async(state0, \"intro p\")\n",
    "state2 = await server.goal_tactic_async(state1, TacticExpr(\"fun h => h\"))\n",
    "print(state2)"
   ]
  },
  {
   "cell_type": "markdown",
   "id": "2ed8ea8f-708d-4d30-a7c4-fae20f07fd91",
   "metadata": {},
   "source": [
    "### Drafting\n",
    "\n",
    "Pantograph supports drafting (technically the sketch step) from\n",
    "[Draft-Sketch-Prove](https://github.com/wellecks/ntptutorial/tree/main/partII_dsp).\n",
    "Pantograph's drafting feature is more powerful. At any place in the proof, you\n",
    "can replace an expression with `sorry`, and the `sorry` will become a goal. Any type errors will also become goals. In order to detect whether type errors have occurred, the user can look at the messages from each compilation unit.\n",
    "\n",
    "At this point we must introduce the idea of compilation units. Each Lean\n",
    "definition, theorem, constant, etc., is a *compilation unit*. When Pantograph\n",
    "extracts data from Lean source code, it sections the data into these compilation\n",
    "units.\n",
    "\n",
    "For example, consider this sketch produced by a language model prover:\n",
    "```lean\n",
    "by\n",
    "   intros n m\n",
    "   induction n with\n",
    "   | zero =>\n",
    "     have h_base: 0 + m = m := sorry\n",
    "     have h_symm: m + 0 = m := sorry\n",
    "     sorry\n",
    "   | succ n ih =>\n",
    "     have h_inductive: n + m = m + n := sorry\n",
    "     have h_pull_succ_out_from_right: m + Nat.succ n = Nat.succ (m + n) := sorry\n",
    "     have h_flip_n_plus_m: Nat.succ (n + m) = Nat.succ (m + n) := sorry\n",
    "     have h_pull_succ_out_from_left: Nat.succ n + m = Nat.succ (n + m) := sorry\n",
    "     sorry\n",
    "```\n",
    "There are some `sorry`s that we want to solve automatically with hammer tactics. We can do this by drafting. We first load the goal statement using `load_sorry`. We highly discourage writing more than 1 `sorry` in a theorem statement."
   ]
  },
  {
   "cell_type": "code",
   "execution_count": 13,
   "id": "e435456b-892a-42e7-a8a9-4968c8202c83",
   "metadata": {},
   "outputs": [
    {
     "name": "stdout",
     "output_type": "stream",
     "text": [
      "\n",
      "⊢ ∀ (n m : Nat), n + m = m + n\n"
     ]
    }
   ],
   "source": [
    "sketch = \"\"\"\n",
    "theorem add_comm_proved_formal_sketch : ∀ n m : Nat, n + m = m + n := sorry\n",
    "\"\"\"\n",
    "unit, = await server.load_sorry_async(sketch)\n",
    "print(unit.goal_state)"
   ]
  },
  {
   "cell_type": "code",
   "execution_count": 14,
   "id": "efce284c-35d0-453f-9857-aebe7b09bf3e",
   "metadata": {},
   "outputs": [
    {
     "name": "stdout",
     "output_type": "stream",
     "text": [
      "n : Nat\n",
      "m : Nat\n",
      "⊢ 0 + m = m\n",
      "n : Nat\n",
      "m : Nat\n",
      "h_base : 0 + m = m\n",
      "⊢ m + 0 = m\n",
      "n : Nat\n",
      "m : Nat\n",
      "h_base : 0 + m = m\n",
      "h_symm : m + 0 = m\n",
      "⊢ 0 + m = m + 0\n",
      "n✝ : Nat\n",
      "m : Nat\n",
      "n : Nat\n",
      "ih : n + m = m + n\n",
      "⊢ n + 1 + m = m + (n + 1)\n"
     ]
    }
   ],
   "source": [
    "step = \"\"\"\n",
    "by\n",
    "   -- Consider some n and m in Nats.\n",
    "   intros n m\n",
    "   -- Perform induction on n.\n",
    "   induction n with\n",
    "   | zero =>\n",
    "     -- Base case: When n = 0, we need to show 0 + m = m + 0.\n",
    "     -- We have the fact 0 + m = m by the definition of addition.\n",
    "     have h_base: 0 + m = m := sorry\n",
    "     -- We also have the fact m + 0 = m by the definition of addition.\n",
    "     have h_symm: m + 0 = m := sorry\n",
    "     -- Combine facts to close goal\n",
    "     sorry\n",
    "   | succ n ih =>\n",
    "     sorry\n",
    "\"\"\"\n",
    "from pantograph.expr import TacticDraft\n",
    "tactic = TacticDraft(step)\n",
    "state1 = await server.goal_tactic_async(unit.goal_state, tactic)\n",
    "print(state1)"
   ]
  },
  {
   "cell_type": "markdown",
   "id": "efabd1ad-88aa-4bc1-90ac-2d7af58d9a07",
   "metadata": {},
   "source": [
    "## Sites\n",
    "\n",
    "The optional `site` argument to `goal_tactic` controls the area of effect of a tactic. Site controls what the tactic sees when it asks Lean for the current goal. Most tactics only act on a single goal, but tactics acting on multiple goals are plausible as well.\n",
    "\n",
    "The `auto_resume` field defaults to the server option's `automaticMode` (which defaults to `True`). When this field is true, Pantograph will not deliberately hide other goals away from the tactic. This is the usual modus operandi of tactic proofs in Lean. When `auto_resume` is set to `False`, Pantograph will set other goals to dormant. This can be useful in limiting the area of effect of a tactic. However, dormanting a goal comes with the extra burden that it has to be activated (\"resume\") later, via `goal_resume`."
   ]
  },
  {
   "cell_type": "code",
   "execution_count": 15,
   "id": "6806db59-bf2e-4c72-9903-200621ec1661",
   "metadata": {},
   "outputs": [
    {
     "name": "stdout",
     "output_type": "stream",
     "text": [
      "left\n",
      "p : Prop\n",
      "h : p\n",
      "⊢ p\n",
      "right\n",
      "p : Prop\n",
      "h : p\n",
      "⊢ p ∨ p\n"
     ]
    }
   ],
   "source": [
    "state = await server.goal_start_async(\"forall (p : Prop), p -> And p (Or p p)\")\n",
    "state = await server.goal_tactic_async(state, \"intro p h\")\n",
    "state = await server.goal_tactic_async(state, \"apply And.intro\")\n",
    "print(state)"
   ]
  },
  {
   "cell_type": "markdown",
   "id": "4e2f9539-bac0-4721-9f86-752090f3ed24",
   "metadata": {},
   "source": [
    "In the example below, we set `auto_resume` to `False`, and the sibling goal is dormanted."
   ]
  },
  {
   "cell_type": "code",
   "execution_count": 16,
   "id": "aebb6f3d-e2b2-4104-8d67-5adce5d2ea78",
   "metadata": {
    "scrolled": true
   },
   "outputs": [
    {
     "name": "stdout",
     "output_type": "stream",
     "text": [
      "\n"
     ]
    }
   ],
   "source": [
    "state1 = await server.goal_tactic_async(state, \"exact h\", site=Site(goal_id=0, auto_resume=False))\n",
    "print(state1)"
   ]
  },
  {
   "cell_type": "markdown",
   "id": "a1db5a24-1f98-47f6-ab26-d00e94d3b57f",
   "metadata": {},
   "source": [
    "In the example below, we preferentially operate on the second goal. Note that the first goal is still here."
   ]
  },
  {
   "cell_type": "code",
   "execution_count": 17,
   "id": "cb0e30db-f7fd-49df-82a9-09e2eeef2885",
   "metadata": {},
   "outputs": [
    {
     "name": "stdout",
     "output_type": "stream",
     "text": [
      "right.h\n",
      "p : Prop\n",
      "h : p\n",
      "⊢ p\n",
      "left\n",
      "p : Prop\n",
      "h : p\n",
      "⊢ p\n"
     ]
    }
   ],
   "source": [
    "state2 = await server.goal_tactic_async(state, \"apply Or.inl\", site=Site(goal_id=1))\n",
    "print(state2)"
   ]
  },
  {
   "cell_type": "markdown",
   "id": "acd74351-e9d5-497c-af6f-fc5709edb54d",
   "metadata": {},
   "source": [
    "## Tactic Modes\n",
    "\n",
    "Pantograph has special provisions for handling `conv` and `calc` tactics. The commonality of these tactics is incremental feedback: The tactic can run half way and produce some goal. Pantograph supports this via tactic modes. Every goal carries around with it a `TacticMode`, and the user is free to switch between modes. By default, the mode is `TacticMode.TACTIC`."
   ]
  },
  {
   "cell_type": "code",
   "execution_count": 18,
   "id": "30b85bc4-a4ff-4156-b0bb-5c3496bd9472",
   "metadata": {},
   "outputs": [
    {
     "data": {
      "text/plain": [
       "GoalState(#23, goals=[Goal(id='_uniq.381', variables=[Variable(t='Nat', v=None, name='a'), Variable(t='Nat', v=None, name='b'), Variable(t='b = 2', v=None, name='h')], target='1 + a + 1 = a + 1 + 1', sibling_dep=None, name='calc', mode=<TacticMode.TACTIC: 1>), Goal(id='_uniq.400', variables=[Variable(t='Nat', v=None, name='a'), Variable(t='Nat', v=None, name='b'), Variable(t='b = 2', v=None, name='h')], target='a + 1 + 1 = a + b', sibling_dep=None, name=None, mode=<TacticMode.CALC: 3>)], _sentinel=#14"
      ]
     },
     "execution_count": 18,
     "metadata": {},
     "output_type": "execute_result"
    }
   ],
   "source": [
    "state = await server.goal_start_async(\"∀ (a b: Nat), (b = 2) -> 1 + a + 1 = a + b\")\n",
    "\n",
    "state = await server.goal_tactic_async(state, \"intro a b h\")\n",
    "state = await server.goal_tactic_async(state, TacticMode.CALC)\n",
    "state = await server.goal_tactic_async(state, \"1 + a + 1 = a + 1 + 1\")\n",
    "state"
   ]
  }
 ],
 "metadata": {
  "kernelspec": {
   "display_name": "Python 3 (ipykernel)",
   "language": "python",
   "name": "python3"
  },
  "language_info": {
   "codemirror_mode": {
    "name": "ipython",
    "version": 3
   },
   "file_extension": ".py",
   "mimetype": "text/x-python",
   "name": "python",
   "nbconvert_exporter": "python",
   "pygments_lexer": "ipython3",
   "version": "3.12.9"
  }
 },
 "nbformat": 4,
 "nbformat_minor": 5
}
