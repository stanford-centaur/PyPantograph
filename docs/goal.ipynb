{
 "cells": [
  {
   "cell_type": "markdown",
   "id": "c5106980-4850-4bea-a333-5a1b2e4d1dc5",
   "metadata": {},
   "source": [
    "# Goals and Tactics\n",
    "\n",
    "Executing tactics in Pantograph is simple. To start a proof, call the\n",
    "`Server.goal_start` function and supply an expression."
   ]
  },
  {
   "cell_type": "code",
   "execution_count": 1,
   "id": "3257de2b-41ca-4cfe-b66c-1ef4781c98b0",
   "metadata": {},
   "outputs": [],
   "source": [
    "from pantograph import Server\n",
    "from pantograph.expr import Site, TacticHave, TacticExpr, TacticMode"
   ]
  },
  {
   "cell_type": "code",
   "execution_count": 2,
   "id": "6783d478-d8c7-4c4e-a56e-8170384297ef",
   "metadata": {},
   "outputs": [],
   "source": [
    "server = await Server.create()\n",
    "state0 = await server.goal_start_async(\"forall (p q: Prop), Or p q -> Or q p\")"
   ]
  },
  {
   "cell_type": "markdown",
   "id": "bfe5a9df-33c2-4538-a9ce-fc0e02c92ff2",
   "metadata": {},
   "source": [
    "This creates a *goal state*, which consists of some goals. In this\n",
    "case since it is the beginning of a state, it has only one goal."
   ]
  },
  {
   "cell_type": "code",
   "execution_count": 3,
   "id": "eefc9094-9574-4f92-9aa2-c39beb85389b",
   "metadata": {},
   "outputs": [
    {
     "name": "stdout",
     "output_type": "stream",
     "text": [
      "\n",
      "⊢ forall (p q: Prop), Or p q -> Or q p\n"
     ]
    }
   ],
   "source": [
    "print(state0)"
   ]
  },
  {
   "cell_type": "markdown",
   "id": "26dbe212-e09e-42dd-ab15-65ee2fba6234",
   "metadata": {},
   "source": [
    "To execute a tactic on a goal state, use `Server.goal_tactic`. This function\n",
    "takes a state, a tactic, and an optional site (see below). Most Lean tactics are strings."
   ]
  },
  {
   "cell_type": "code",
   "execution_count": 4,
   "id": "c907dbb6-4d6a-4aa7-b173-60220165ba9e",
   "metadata": {},
   "outputs": [
    {
     "name": "stdout",
     "output_type": "stream",
     "text": [
      "a : Prop\n",
      "⊢ ∀ (q : Prop), a ∨ q → q ∨ a\n"
     ]
    }
   ],
   "source": [
    "state1 = await server.goal_tactic_async(state0, \"intro a\")\n",
    "print(state1)"
   ]
  },
  {
   "cell_type": "markdown",
   "id": "9978fdcf-a12b-4f22-9551-5e04c262e5e0",
   "metadata": {},
   "source": [
    "Executing a tactic produces a new goal state. If this goal state has no goals,\n",
    "the proof is complete. You can recover the usual form of a goal with `str()`"
   ]
  },
  {
   "cell_type": "code",
   "execution_count": 5,
   "id": "16595c5e-2285-49d5-8340-397ad1e6c9e7",
   "metadata": {},
   "outputs": [
    {
     "name": "stdout",
     "output_type": "stream",
     "text": [
      "a : Prop\n",
      "⊢ ∀ (q : Prop), a ∨ q → q ∨ a\n"
     ]
    }
   ],
   "source": [
    "print(state1.goals[0])"
   ]
  },
  {
   "cell_type": "markdown",
   "id": "67f2a75d-6851-4393-bac9-a091400f1906",
   "metadata": {},
   "source": [
    "## Error Handling and GC\n",
    "\n",
    "When a tactic fails, it throws an exception:"
   ]
  },
  {
   "cell_type": "code",
   "execution_count": 6,
   "id": "c9784ba2-3810-4f80-a6c4-33d5eef3003e",
   "metadata": {
    "scrolled": true
   },
   "outputs": [
    {
     "name": "stdout",
     "output_type": "stream",
     "text": [
      "[\"tactic 'assumption' failed\\na : Prop\\n⊢ ∀ (q : Prop), a ∨ q → q ∨ a\"]\n"
     ]
    }
   ],
   "source": [
    "try:\n",
    "    state2 = await server.goal_tactic_async(state1, \"assumption\")\n",
    "    print(\"Should not reach this\")\n",
    "except Exception as e:\n",
    "    print(e)"
   ]
  },
  {
   "cell_type": "markdown",
   "id": "1ae60d9e-8656-4f26-b495-d04bced250fc",
   "metadata": {},
   "source": [
    "A state with no goals is considered solved"
   ]
  },
  {
   "cell_type": "code",
   "execution_count": 7,
   "id": "1cb96b19-d3bb-4533-abeb-a7dbc5bc8c3e",
   "metadata": {},
   "outputs": [
    {
     "data": {
      "text/plain": [
       "GoalState(state_id=5, goals=[], messages=[], _sentinel=[0, 1])"
      ]
     },
     "execution_count": 7,
     "metadata": {},
     "output_type": "execute_result"
    }
   ],
   "source": [
    "state0 = await server.goal_start_async(\"forall (p : Prop), p -> p\")\n",
    "state1 = await server.goal_tactic_async(state0, \"intro\")\n",
    "state2 = await server.goal_tactic_async(state1, \"intro h\")\n",
    "state3 = await server.goal_tactic_async(state2, \"exact h\")\n",
    "state3"
   ]
  },
  {
   "cell_type": "markdown",
   "id": "a2945e71-e583-4ae0-9c0f-83035f0492f2",
   "metadata": {},
   "source": [
    "Execute `server.gc()` once in a while to delete unused goals."
   ]
  },
  {
   "cell_type": "code",
   "execution_count": 8,
   "id": "d53624ff-c720-4847-98f7-28e109eb76e7",
   "metadata": {},
   "outputs": [],
   "source": [
    "await server.gc_async()"
   ]
  },
  {
   "cell_type": "markdown",
   "id": "0b59e05e-7d8c-4fad-b8ca-375ea995ea5b",
   "metadata": {},
   "source": [
    "## Special Tactics\n",
    "\n",
    "Lean has special provisions for some tactics. This includes `have`, `let`,\n",
    "`calc`. To execute one of these tactics, create a `TacticHave`, `TacticLet`,\n",
    "instance and feed it into `server.goal_tactic`.\n",
    "\n",
    "Technically speaking `have` and `let` are not tactics in Lean, so their execution requires special attention."
   ]
  },
  {
   "cell_type": "code",
   "execution_count": 9,
   "id": "526d620b-064f-4ec0-a7b2-6a1ef3c6f6e7",
   "metadata": {},
   "outputs": [
    {
     "name": "stdout",
     "output_type": "stream",
     "text": [
      "\n",
      "⊢ 2 = 1 + 1\n",
      "h : 2 = 1 + 1\n",
      "⊢ 1 + 1 = 2\n"
     ]
    }
   ],
   "source": [
    "state0 = await server.goal_start_async(\"1 + 1 = 2\")\n",
    "state1 = await server.goal_tactic_async(state0, TacticHave(branch=\"2 = 1 + 1\", binder_name=\"h\"))\n",
    "print(state1)"
   ]
  },
  {
   "cell_type": "markdown",
   "id": "c415d436-ed0d-475f-bf5e-b8dc63954c7e",
   "metadata": {},
   "source": [
    "The `TacticExpr` \"tactic\" parses an expression and assigns it to the current\n",
    "goal.  This leverages Lean's type unification system and is as expressive as\n",
    "Lean expressions. Many proofs in Mathlib4 are written in a mixture of expression\n",
    "and tactic forms."
   ]
  },
  {
   "cell_type": "code",
   "execution_count": 10,
   "id": "e1f06441-4d77-45a7-a1c3-b800b96a8105",
   "metadata": {},
   "outputs": [
    {
     "name": "stdout",
     "output_type": "stream",
     "text": [
      "\n"
     ]
    }
   ],
   "source": [
    "state0 = await server.goal_start_async(\"forall (p : Prop), p -> p\")\n",
    "state1 = await server.goal_tactic_async(state0, \"intro p\")\n",
    "state2 = await server.goal_tactic_async(state1, TacticExpr(\"fun h => h\"))\n",
    "print(state2)"
   ]
  },
  {
   "cell_type": "markdown",
   "id": "efabd1ad-88aa-4bc1-90ac-2d7af58d9a07",
   "metadata": {},
   "source": [
    "## Sites\n",
    "\n",
    "The optional `site` argument to `goal_tactic` controls the area of effect of a tactic. Site controls what the tactic sees when it asks Lean for the current goal. Most tactics only act on a single goal, but tactics acting on multiple goals are plausible as well (e.g. `simp_all`).\n",
    "\n",
    "The `auto_resume` field defaults to the server option's `automaticMode` (which defaults to `True`). When this field is true, Pantograph will not deliberately hide other goals away from the tactic. This is the usual modus operandi of tactic proofs in Lean. When `auto_resume` is set to `False`, Pantograph will set other goals to dormant. This can be useful in limiting the area of effect of a tactic. However, dormanting a goal comes with the extra burden that it has to be activated (\"resume\") later, via `goal_resume`."
   ]
  },
  {
   "cell_type": "code",
   "execution_count": 11,
   "id": "6806db59-bf2e-4c72-9903-200621ec1661",
   "metadata": {},
   "outputs": [
    {
     "name": "stdout",
     "output_type": "stream",
     "text": [
      "left\n",
      "p : Prop\n",
      "h : p\n",
      "⊢ p\n",
      "right\n",
      "p : Prop\n",
      "h : p\n",
      "⊢ p ∨ p\n"
     ]
    }
   ],
   "source": [
    "state = await server.goal_start_async(\"forall (p : Prop), p -> And p (Or p p)\")\n",
    "state = await server.goal_tactic_async(state, \"intro p h\")\n",
    "state = await server.goal_tactic_async(state, \"apply And.intro\")\n",
    "print(state)"
   ]
  },
  {
   "cell_type": "markdown",
   "id": "4e2f9539-bac0-4721-9f86-752090f3ed24",
   "metadata": {},
   "source": [
    "In the example below, we set `auto_resume` to `False`, and the sibling goal is dormanted."
   ]
  },
  {
   "cell_type": "code",
   "execution_count": 12,
   "id": "aebb6f3d-e2b2-4104-8d67-5adce5d2ea78",
   "metadata": {
    "scrolled": true
   },
   "outputs": [
    {
     "name": "stdout",
     "output_type": "stream",
     "text": [
      "\n"
     ]
    }
   ],
   "source": [
    "state1 = await server.goal_tactic_async(state, \"exact h\", site=Site(goal_id=0, auto_resume=False))\n",
    "print(state1)"
   ]
  },
  {
   "cell_type": "markdown",
   "id": "a1db5a24-1f98-47f6-ab26-d00e94d3b57f",
   "metadata": {},
   "source": [
    "In the example below, we preferentially operate on the second goal. Note that the first goal is still here."
   ]
  },
  {
   "cell_type": "code",
   "execution_count": 13,
   "id": "cb0e30db-f7fd-49df-82a9-09e2eeef2885",
   "metadata": {},
   "outputs": [
    {
     "name": "stdout",
     "output_type": "stream",
     "text": [
      "right.h\n",
      "p : Prop\n",
      "h : p\n",
      "⊢ p\n",
      "left\n",
      "p : Prop\n",
      "h : p\n",
      "⊢ p\n"
     ]
    }
   ],
   "source": [
    "state2 = await server.goal_tactic_async(state, \"apply Or.inl\", site=Site(goal_id=1))\n",
    "print(state2)"
   ]
  },
  {
   "cell_type": "markdown",
   "id": "acd74351-e9d5-497c-af6f-fc5709edb54d",
   "metadata": {},
   "source": [
    "## Tactic Modes\n",
    "\n",
    "Pantograph has special provisions for handling `conv` and `calc` tactics. The commonality of these tactics is incremental feedback: The tactic can run half way and produce some goal. Pantograph supports this via tactic modes. Every goal carries around with it a `TacticMode`, and the user is free to switch between modes. By default, the mode is `TacticMode.TACTIC`."
   ]
  },
  {
   "cell_type": "code",
   "execution_count": 14,
   "id": "30b85bc4-a4ff-4156-b0bb-5c3496bd9472",
   "metadata": {},
   "outputs": [
    {
     "data": {
      "text/plain": [
       "GoalState(state_id=19, goals=[Goal(id='_uniq.363', variables=[Variable(t='Nat', v=None, name='a'), Variable(t='Nat', v=None, name='b'), Variable(t='b = 2', v=None, name='h')], target='1 + a + 1 = a + 1 + 1', sibling_dep=None, name='calc', mode=<TacticMode.TACTIC: 1>), Goal(id='_uniq.382', variables=[Variable(t='Nat', v=None, name='a'), Variable(t='Nat', v=None, name='b'), Variable(t='b = 2', v=None, name='h')], target='a + 1 + 1 = a + b', sibling_dep=None, name=None, mode=<TacticMode.CALC: 3>)], messages=[], _sentinel=[2, 3, 6, 7, 4, 11, 12, 9, 10, 13, 16, 17, 18])"
      ]
     },
     "execution_count": 14,
     "metadata": {},
     "output_type": "execute_result"
    }
   ],
   "source": [
    "state = await server.goal_start_async(\"∀ (a b: Nat), (b = 2) -> 1 + a + 1 = a + b\")\n",
    "\n",
    "state = await server.goal_tactic_async(state, \"intro a b h\")\n",
    "state = await server.goal_tactic_async(state, TacticMode.CALC)\n",
    "state = await server.goal_tactic_async(state, \"1 + a + 1 = a + 1 + 1\")\n",
    "state"
   ]
  }
 ],
 "metadata": {
  "kernelspec": {
   "display_name": "Python 3 (ipykernel)",
   "language": "python",
   "name": "python3"
  },
  "language_info": {
   "codemirror_mode": {
    "name": "ipython",
    "version": 3
   },
   "file_extension": ".py",
   "mimetype": "text/x-python",
   "name": "python",
   "nbconvert_exporter": "python",
   "pygments_lexer": "ipython3",
   "version": "3.13.0"
  }
 },
 "nbformat": 4,
 "nbformat_minor": 5
}
